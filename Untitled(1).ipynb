{
  "nbformat": 4,
  "nbformat_minor": 0,
  "metadata": {
    "kernelspec": {
      "display_name": "Python 3",
      "language": "python",
      "name": "python3"
    },
    "language_info": {
      "codemirror_mode": {
        "name": "ipython",
        "version": 3
      },
      "file_extension": ".py",
      "mimetype": "text/x-python",
      "name": "python",
      "nbconvert_exporter": "python",
      "pygments_lexer": "ipython3",
      "version": "3.9.7"
    },
    "colab": {
      "name": "Untitled(1).ipynb",
      "provenance": [],
      "include_colab_link": true
    }
  },
  "cells": [
    {
      "cell_type": "markdown",
      "metadata": {
        "id": "view-in-github",
        "colab_type": "text"
      },
      "source": [
        "<a href=\"https://colab.research.google.com/github/uprestel/Segmentation/blob/main/Untitled(1).ipynb\" target=\"_parent\"><img src=\"https://colab.research.google.com/assets/colab-badge.svg\" alt=\"Open In Colab\"/></a>"
      ]
    },
    {
      "cell_type": "code",
      "metadata": {
        "id": "6Q2ZuChf6PFi"
      },
      "source": [
        "import numpy as np\n",
        "\n",
        "def euclidian_distance(u, v):\n",
        "    \n",
        "    s = 0.0\n",
        "    for i in range(0, len(u)):\n",
        "        s = s +  (u[i] - v[i])**2\n",
        "        \n",
        "    return float(np.sqrt(s))\n",
        "\n",
        "def Pi_K(q, K, tolerance = 0, it = 0): #K = { ( i1, i2, oi1i2)_1, ( i1, i2, oi1i2)_2, .... }\n",
        "    \n",
        "    qi1i2 = np.zeros(len(K))\n",
        "    \n",
        "    change = tolerance+1\n",
        "    \n",
        "    k = len(K)\n",
        "    step = 0\n",
        "    \n",
        "    f = lambda change, tolerance : False \n",
        "    if tolerance > 0 and it > 0:\n",
        "        f = lambda change, tolerance :  change > tolerance and  step < it\n",
        "    elif it > 0:\n",
        "        f = lambda change, tolerance : step < it\n",
        "    elif tolerance > 0 : change > tolerance\n",
        "    \n",
        "    \n",
        "    while( f(change, tolerance) ) :\n",
        "        \n",
        "        q_old = q.copy()\n",
        "        \n",
        "        for i in range(0, k):\n",
        "            \n",
        "            i1 = K[i][0]\n",
        "            i2 = K[i][1]\n",
        "            o = K[i][2]\n",
        "            \n",
        "            q_ = q[i2] - q[i1] + qi1i2[i]\n",
        "            #print(type(q_))\n",
        "            \n",
        "            #print(\"q_\", q_)\n",
        "            if( np.isclose(abs(q_), 0.0)):\n",
        "                #print(\"break\")\n",
        "                q = q_old\n",
        "                change = tolerance \n",
        "                step = it\n",
        "                break\n",
        "            \n",
        "            q__ = ( abs(q_) - o ) + ( q_/abs(q_))\n",
        "            \n",
        "            q[i1] = q[i1] + 0.5*(q__ - qi1i2[i])\n",
        "            q[i2] = q[i2] - 0.5*(q__ - qi1i2[i])\n",
        "            qi1i2[i] = q__\n",
        "            \n",
        "        step = step +1\n",
        "    \n",
        "        #diff = list(map(abs, (q-q_old) ))\n",
        "        change = euclidian_distance(q, q_old)\n",
        "        #change = sum(diff)\n",
        "        #print(\"change \", change)\n",
        "        #print(\"qold \", q_old)\n",
        "        #print(\"q \",  q)\n",
        "        \n",
        "    \n",
        "    #print(step)\n",
        "    return q\n",
        "    \n",
        "    \n",
        "    "
      ],
      "execution_count": null,
      "outputs": []
    },
    {
      "cell_type": "code",
      "metadata": {
        "id": "C7h0MCQO6PFo",
        "outputId": "a0df6d24-90ef-4fdc-c558-6cc6dc4587d0"
      },
      "source": [
        "q = np.array([1.234, 3.413, 89.99, 100.912])\n",
        "K = [ [0, 1, 1.45356], [2, 3, 0.223215] ]\n",
        "\n",
        "print( Pi_K(q, K, 0.0000001, 2000) )"
      ],
      "execution_count": null,
      "outputs": [
        {
          "name": "stdout",
          "output_type": "stream",
          "text": [
            "[ 2.09672    2.55028   95.8393925 95.0626075]\n"
          ]
        }
      ]
    },
    {
      "cell_type": "code",
      "metadata": {
        "id": "blTTcXCC6PFp"
      },
      "source": [
        "import random\n",
        "\n",
        "def listN(n):\n",
        "    \n",
        "    return [ i  for i in range(0, n)]\n",
        "\n",
        "def randomElement(U): \n",
        "    n = len(U)\n",
        "    i = random.randrange(0,n)\n",
        "\n",
        "    return U[i]\n",
        "    \n",
        "    \n",
        "def getGL(U, v, k):\n",
        "    \n",
        "    G = []\n",
        "    L = []\n",
        "    \n",
        "    for i in U:\n",
        "        \n",
        "        if i >= k:\n",
        "            G.append(i)\n",
        "        else:\n",
        "            L.append(i)\n",
        "            \n",
        "    return (G, L)\n",
        "    \n",
        "#max || w - v||^2_2, s.t. ||w||_1 <= z    \n",
        "def Pi_s(vi, z):\n",
        "    \n",
        "    v = vi.copy()\n",
        "    \n",
        "    U = listN(len(v))\n",
        "    p = 0\n",
        "    s = 0\n",
        "    \n",
        "    while len(U) > 0:\n",
        "    \n",
        "        k = randomElement(U)\n",
        "        vk = v[k]\n",
        "        #print(\"k \", k)\n",
        "        #print(\"vk \", vk)\n",
        "    \n",
        "        (G, L) = getGL(U, v, k)\n",
        "    \n",
        "        delta_p = len(G)\n",
        "        delta_s = 0\n",
        "        for i in G:\n",
        "            delta_s = delta_s + v[i]\n",
        "        \n",
        "        #print(\"delta_p \", delta_p)\n",
        "        #print(\"delta_s \", delta_s)\n",
        "        #print(\"G \", G)\n",
        "        #print(\"L \", L)\n",
        "        #print(\"U \", U)\n",
        "        \n",
        "        if( ((s+delta_s) - (p+delta_p)*vk) < z  ):\n",
        "            s = s + delta_s\n",
        "            p = p + delta_p\n",
        "            U = L\n",
        "        else:\n",
        "            G.remove(k)\n",
        "            U = G\n",
        "            \n",
        "        \n",
        "        #print(\"U \", U)\n",
        "        #print(\"s \", s)\n",
        "        #print(\"p \", p)\n",
        "        #print(\"---------------------------------------------------------------------------\")\n",
        "    \n",
        "    theta = (s - z)/p\n",
        "    \n",
        "    for i, val in enumerate(v):\n",
        "        v[i] =  max(val - theta, 0.0) \n",
        "        \n",
        "    return v\n",
        "        \n",
        "    \n",
        "def Pi_S(v, z): # max || w - v||^2_2, s.t. sum(w_i) = 1, projection onto the simplex\n",
        "    \n",
        "    mu = np.sort(v)\n",
        "    \n",
        "    n = len(v)\n",
        "    \n",
        "    P = np.zeros(n)\n",
        "    \n",
        "    mu_z = mu - z\n",
        "    \n",
        "    for j in range(0,n):\n",
        "        \n",
        "        s = np.sum ( mu_z[:(j+1)]  )\n",
        "        #for i in range(0, j+1):\n",
        "        #    s = s + mu[i] - z\n",
        "        \n",
        "        val = mu[j] - 1.0/(j+1)* (s) \n",
        "        P[j] = max(val, 0)\n",
        "        \n",
        "    \n",
        "    p = np.argmin(P)\n",
        "    \n",
        "    theta = 1.0/(p+1) * np.sum(mu_z[:(p+1)])\n",
        "    \n",
        "    res = np.array( [ max(vi - theta, 0.0 ) for vi in v ] )\n",
        "        \n",
        "    return res    \n",
        "    \n",
        "    \n",
        "    "
      ],
      "execution_count": null,
      "outputs": []
    },
    {
      "cell_type": "code",
      "metadata": {
        "id": "uPn7idhZ6PFq",
        "outputId": "3eae3616-e976-4e17-e750-8d445379c150"
      },
      "source": [
        "Pi_S( [1, 2.4, 6.8, -1], 1)"
      ],
      "execution_count": null,
      "outputs": [
        {
          "data": {
            "text/plain": [
              "array([3. , 4.4, 8.8, 1. ])"
            ]
          },
          "execution_count": 4,
          "metadata": {},
          "output_type": "execute_result"
        }
      ]
    },
    {
      "cell_type": "code",
      "metadata": {
        "id": "KiXD0nQ56PFq",
        "outputId": "9fc52bfc-fd7d-438d-e6ec-78cbce874aa2"
      },
      "source": [
        "Pi_S( [1.2, 3.4, 6.8, -1], 1)"
      ],
      "execution_count": null,
      "outputs": [
        {
          "data": {
            "text/plain": [
              "array([3.2, 5.4, 8.8, 1. ])"
            ]
          },
          "execution_count": 5,
          "metadata": {},
          "output_type": "execute_result"
        }
      ]
    },
    {
      "cell_type": "code",
      "metadata": {
        "id": "rxktrdOf6PFr",
        "outputId": "1fb01443-cffb-40dd-bcb4-cd689444a5aa"
      },
      "source": [
        "Pi_S( [1.2, 3.4, 6.8, -1], 1)"
      ],
      "execution_count": null,
      "outputs": [
        {
          "data": {
            "text/plain": [
              "array([3.2, 5.4, 8.8, 1. ])"
            ]
          },
          "execution_count": 6,
          "metadata": {},
          "output_type": "execute_result"
        }
      ]
    },
    {
      "cell_type": "code",
      "metadata": {
        "id": "xbLf-RPB6PFs",
        "outputId": "a68d0e49-0c0b-42c5-e8c8-4e009aefda78"
      },
      "source": [
        "arr = np.array( [1,2,3,4,5,6,7,8,9] )\n",
        "arr[:3]"
      ],
      "execution_count": null,
      "outputs": [
        {
          "data": {
            "text/plain": [
              "array([1, 2, 3])"
            ]
          },
          "execution_count": 7,
          "metadata": {},
          "output_type": "execute_result"
        }
      ]
    },
    {
      "cell_type": "code",
      "metadata": {
        "id": "TccJQqoE6PFt"
      },
      "source": [
        ""
      ],
      "execution_count": null,
      "outputs": []
    }
  ]
}